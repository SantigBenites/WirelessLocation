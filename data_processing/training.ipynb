{
 "cells": [
  {
   "cell_type": "markdown",
   "id": "ed8af275",
   "metadata": {},
   "source": [
    "# Training\n",
    "\n",
    "To train our model we will take the relativized data from "
   ]
  },
  {
   "cell_type": "code",
   "execution_count": null,
   "id": "e1f3041f",
   "metadata": {},
   "outputs": [],
   "source": []
  }
 ],
 "metadata": {
  "language_info": {
   "name": "python"
  }
 },
 "nbformat": 4,
 "nbformat_minor": 5
}
