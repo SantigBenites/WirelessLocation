{
 "cells": [
  {
   "cell_type": "code",
   "execution_count": 5,
   "id": "fc52dc04",
   "metadata": {},
   "outputs": [],
   "source": [
    "import pandas as pd \n",
    "import wandb\n",
    "api = wandb.Api()\n",
    "\n",
    "# Project is specified by <entity/project-name>\n",
    "runs = api.runs(\"santi-mbenites-university-of-lisbon/wifi-rssi-gradient-search\")\n",
    "\n",
    "summary_list, config_list, name_list = [], [], []\n",
    "for run in runs: \n",
    "    # .summary contains the output keys/values for metrics like accuracy.\n",
    "    #  We call ._json_dict to omit large files \n",
    "    summary_list.append(run.summary._json_dict)\n",
    "\n",
    "    # .config contains the hyperparameters.\n",
    "    #  We remove special values that start with _.\n",
    "    config_list.append(\n",
    "        {k: v for k,v in run.config.items()\n",
    "          if not k.startswith('_')})\n",
    "\n",
    "    # .name is the human-readable name of the run.\n",
    "    name_list.append(run.name)\n",
    "\n",
    "runs_df = pd.DataFrame({\n",
    "    \"summary\": summary_list,\n",
    "    \"config\": config_list,\n",
    "    \"name\": name_list\n",
    "    })\n",
    "\n",
    "runs_df.to_csv(\"project.csv\")"
   ]
  },
  {
   "cell_type": "code",
   "execution_count": 4,
   "id": "f830b8b2",
   "metadata": {},
   "outputs": [
    {
     "name": "stdout",
     "output_type": "stream",
     "text": [
      "                                             summary  \\\n",
      "0  {'_runtime': 61, '_step': 71, '_timestamp': 17...   \n",
      "1  {'_runtime': 36, '_step': 42, '_timestamp': 17...   \n",
      "2  {'_runtime': 108, '_step': 168, '_timestamp': ...   \n",
      "3  {'_runtime': 90, '_step': 135, '_timestamp': 1...   \n",
      "4  {'_runtime': 62, '_step': 92, '_timestamp': 17...   \n",
      "\n",
      "                                              config  \\\n",
      "0  {'epochs': 40, 'val_data': '(tensor([[-100., -...   \n",
      "1  {'epochs': 40, 'val_data': '(tensor([[-100., -...   \n",
      "2  {'epochs': 40, 'val_data': '(tensor([[-100., -...   \n",
      "3  {'epochs': 40, 'val_data': '(tensor([[-100., -...   \n",
      "4  {'epochs': 40, 'val_data': '(tensor([[-100., -...   \n",
      "\n",
      "                               name  \n",
      "0  outdoor_only_run0_depth4_model11  \n",
      "1   outdoor_only_run1_depth9_model4  \n",
      "2   outdoor_only_run2_depth3_model9  \n",
      "3   outdoor_only_run3_depth1_model4  \n",
      "4   outdoor_only_run4_depth8_model2  \n"
     ]
    }
   ],
   "source": [
    "print(runs_df.head())"
   ]
  }
 ],
 "metadata": {
  "kernelspec": {
   "display_name": "location-env",
   "language": "python",
   "name": "python3"
  },
  "language_info": {
   "codemirror_mode": {
    "name": "ipython",
    "version": 3
   },
   "file_extension": ".py",
   "mimetype": "text/x-python",
   "name": "python",
   "nbconvert_exporter": "python",
   "pygments_lexer": "ipython3",
   "version": "3.13.3"
  }
 },
 "nbformat": 4,
 "nbformat_minor": 5
}
