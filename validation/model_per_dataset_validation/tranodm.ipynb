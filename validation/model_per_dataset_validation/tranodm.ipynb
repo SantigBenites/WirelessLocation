{
 "cells": [
  {
   "cell_type": "code",
   "execution_count": 1,
   "id": "73b5cee1",
   "metadata": {},
   "outputs": [],
   "source": [
    "import argparse\n",
    "import os\n",
    "import re\n",
    "import sys\n",
    "import pandas as pd\n",
    "from pathlib import Path\n",
    "import csv\n",
    "import numpy as np\n",
    "\n",
    "GROUP_PREFIXES = [\n",
    "    \"outdoor_only\",\n",
    "    \"indoor_only\",\n",
    "    \"garage_only\",\n",
    "    \"outdoor_and_indoor\",\n",
    "    \"outdoor_and_garage\",\n",
    "    \"outdoor_indoor_and_garage\",\n",
    "    \"all_data\",\n",
    "]\n",
    "\n",
    "REQUIRED_COLS = {\n",
    "    \"dataset\",\"input_size\",\"mae\",\"model_file\",\"mse\",\"output_size\",\"r2\",\"rmse\",\"val_loss\"\n",
    "}\n",
    "METRICS = [\"mae\", \"mse\", \"r2\", \"rmse\",\"val_loss\"]\n",
    "\n",
    "csv_path = Path(\"/home/admindi/sbenites/WirelessLocation/validation/model_per_dataset_validation/eval_results.csv\")  # <-- change if needed\n",
    "round_decimals = 2\n",
    "\n",
    "\n",
    "\n",
    "def infer_model_group(model_file: str) -> str:\n",
    "    # normalize\n",
    "    base = os.path.basename(str(model_file or \"\")).lower().strip()\n",
    "    base = os.path.splitext(base)[0]                 # drop extension\n",
    "    base = re.sub(r\"[\\s\\-]+\", \"_\", base)             # spaces/hyphens -> underscore\n",
    "\n",
    "    # longest-first to avoid overlaps\n",
    "    for p in sorted(GROUP_PREFIXES, key=len, reverse=True):\n",
    "        if base == p or base.startswith(p + \"_\"):\n",
    "            return p\n",
    "    return \"unknown\"\n",
    "\n",
    "def split_by_group(csv_path: str) -> dict[str, pd.DataFrame]:\n",
    "    df = pd.read_csv(csv_path, sep=None, engine=\"python\", skipinitialspace=True)\n",
    "    df[\"model_type\"] = df[\"model_file\"].apply(infer_model_group)\n",
    "\n",
    "    groups = {p: df[df[\"model_type\"] == p].copy() for p in GROUP_PREFIXES}\n",
    "    groups[\"unknown\"] = df[df[\"model_type\"] == \"unknown\"].copy()\n",
    "\n",
    "    \n",
    "    return groups\n",
    "\n",
    "def coerce_and_sanity_check(df: pd.DataFrame) -> pd.DataFrame:\n",
    "    # Coerce to numeric\n",
    "    for c in METRICS:\n",
    "        df[c] = pd.to_numeric(df[c], errors=\"coerce\")\n",
    "    # Remove inf/NaN rows in metrics or required fields\n",
    "    df = df.replace([np.inf, -np.inf], np.nan)\n",
    "    df = df.dropna(subset=list(REQUIRED_COLS))\n",
    "    # Basic physical/range checks\n",
    "    df = df[(df[\"mae\"] >= 0) & (df[\"mse\"] >= 0) & (df[\"rmse\"] >= 0)]\n",
    "    # R^2 can be negative, but >1 is invalid\n",
    "    df = df[df[\"r2\"] <= 1]\n",
    "    return df\n",
    "\n",
    "def iqr_bounds(s: pd.Series, k: float = 1.5) -> tuple[float, float]:\n",
    "    q1 = s.quantile(0.25)\n",
    "    q3 = s.quantile(0.75)\n",
    "    iqr = q3 - q1\n",
    "    lo = q1 - k * iqr\n",
    "    hi = q3 + k * iqr\n",
    "    return lo, hi\n",
    "\n",
    "def drop_outliers_iqr(df: pd.DataFrame,\n",
    "                      cols: list[str],\n",
    "                      group_cols: list[str],\n",
    "                      k: float = 1.5) -> tuple[pd.DataFrame, pd.Series]:\n",
    "    \"\"\"\n",
    "    Remove outliers per (group_cols) using IQR on each column in cols.\n",
    "    Returns (filtered_df, outlier_mask) aligned to original df index.\n",
    "    \"\"\"\n",
    "    mask = pd.Series(False, index=df.index)\n",
    "    for col in cols:\n",
    "        # compute per-group bounds and flag outside\n",
    "        lo = df.groupby(group_cols)[col].transform(lambda s: iqr_bounds(s, k)[0])\n",
    "        hi = df.groupby(group_cols)[col].transform(lambda s: iqr_bounds(s, k)[1])\n",
    "        mask = mask | (df[col] < lo) | (df[col] > hi)\n",
    "    return df.loc[~mask].copy(), mask\n"
   ]
  },
  {
   "cell_type": "code",
   "execution_count": 2,
   "id": "788578c5",
   "metadata": {},
   "outputs": [
    {
     "name": "stdout",
     "output_type": "stream",
     "text": [
      "[outdoor_only] outliers removed: 2 / 23 (kept 21)\n",
      "=== Averages by (model_group, dataset) — cleaned (IQR) — group: outdoor_only ===\n"
     ]
    },
    {
     "data": {
      "text/html": [
       "<style type=\"text/css\">\n",
       "#T_727ce_row0_col0, #T_727ce_row0_col1, #T_727ce_row0_col3, #T_727ce_row0_col4 {\n",
       "  background-color: #006837;\n",
       "  color: #f1f1f1;\n",
       "}\n",
       "#T_727ce_row0_col2 {\n",
       "  background-color: #a50026;\n",
       "  color: #f1f1f1;\n",
       "}\n",
       "</style>\n",
       "<table id=\"T_727ce\">\n",
       "  <thead>\n",
       "    <tr>\n",
       "      <th class=\"blank\" >&nbsp;</th>\n",
       "      <th class=\"blank level0\" >&nbsp;</th>\n",
       "      <th id=\"T_727ce_level0_col0\" class=\"col_heading level0 col0\" >mae</th>\n",
       "      <th id=\"T_727ce_level0_col1\" class=\"col_heading level0 col1\" >mse</th>\n",
       "      <th id=\"T_727ce_level0_col2\" class=\"col_heading level0 col2\" >r2</th>\n",
       "      <th id=\"T_727ce_level0_col3\" class=\"col_heading level0 col3\" >rmse</th>\n",
       "      <th id=\"T_727ce_level0_col4\" class=\"col_heading level0 col4\" >val_loss</th>\n",
       "    </tr>\n",
       "    <tr>\n",
       "      <th class=\"index_name level0\" >model_group</th>\n",
       "      <th class=\"index_name level1\" >dataset</th>\n",
       "      <th class=\"blank col0\" >&nbsp;</th>\n",
       "      <th class=\"blank col1\" >&nbsp;</th>\n",
       "      <th class=\"blank col2\" >&nbsp;</th>\n",
       "      <th class=\"blank col3\" >&nbsp;</th>\n",
       "      <th class=\"blank col4\" >&nbsp;</th>\n",
       "    </tr>\n",
       "  </thead>\n",
       "  <tbody>\n",
       "    <tr>\n",
       "      <th id=\"T_727ce_level0_row0\" class=\"row_heading level0 row0\" >outdoor_only</th>\n",
       "      <th id=\"T_727ce_level1_row0\" class=\"row_heading level1 row0\" >outdoor</th>\n",
       "      <td id=\"T_727ce_row0_col0\" class=\"data row0 col0\" >5.52</td>\n",
       "      <td id=\"T_727ce_row0_col1\" class=\"data row0 col1\" >49.82</td>\n",
       "      <td id=\"T_727ce_row0_col2\" class=\"data row0 col2\" >0.44</td>\n",
       "      <td id=\"T_727ce_row0_col3\" class=\"data row0 col3\" >6.97</td>\n",
       "      <td id=\"T_727ce_row0_col4\" class=\"data row0 col4\" >50.00</td>\n",
       "    </tr>\n",
       "  </tbody>\n",
       "</table>\n"
      ],
      "text/plain": [
       "<pandas.io.formats.style.Styler at 0x72fcbc7657f0>"
      ]
     },
     "metadata": {},
     "output_type": "display_data"
    },
    {
     "name": "stdout",
     "output_type": "stream",
     "text": [
      "[indoor_only] outliers removed: 0 / 0 (kept 0)\n",
      "=== Averages by (model_group, dataset) — cleaned (IQR) — group: indoor_only ===\n"
     ]
    },
    {
     "data": {
      "text/html": [
       "<style type=\"text/css\">\n",
       "</style>\n",
       "<table id=\"T_b89ef\">\n",
       "  <thead>\n",
       "    <tr>\n",
       "      <th class=\"blank\" >&nbsp;</th>\n",
       "      <th class=\"blank level0\" >&nbsp;</th>\n",
       "      <th id=\"T_b89ef_level0_col0\" class=\"col_heading level0 col0\" >mae</th>\n",
       "      <th id=\"T_b89ef_level0_col1\" class=\"col_heading level0 col1\" >mse</th>\n",
       "      <th id=\"T_b89ef_level0_col2\" class=\"col_heading level0 col2\" >r2</th>\n",
       "      <th id=\"T_b89ef_level0_col3\" class=\"col_heading level0 col3\" >rmse</th>\n",
       "      <th id=\"T_b89ef_level0_col4\" class=\"col_heading level0 col4\" >val_loss</th>\n",
       "    </tr>\n",
       "    <tr>\n",
       "      <th class=\"index_name level0\" >model_group</th>\n",
       "      <th class=\"index_name level1\" >dataset</th>\n",
       "      <th class=\"blank col0\" >&nbsp;</th>\n",
       "      <th class=\"blank col1\" >&nbsp;</th>\n",
       "      <th class=\"blank col2\" >&nbsp;</th>\n",
       "      <th class=\"blank col3\" >&nbsp;</th>\n",
       "      <th class=\"blank col4\" >&nbsp;</th>\n",
       "    </tr>\n",
       "  </thead>\n",
       "  <tbody>\n",
       "  </tbody>\n",
       "</table>\n"
      ],
      "text/plain": [
       "<pandas.io.formats.style.Styler at 0x72fcbdf63250>"
      ]
     },
     "metadata": {},
     "output_type": "display_data"
    },
    {
     "name": "stdout",
     "output_type": "stream",
     "text": [
      "[garage_only] outliers removed: 0 / 0 (kept 0)\n",
      "=== Averages by (model_group, dataset) — cleaned (IQR) — group: garage_only ===\n"
     ]
    },
    {
     "data": {
      "text/html": [
       "<style type=\"text/css\">\n",
       "</style>\n",
       "<table id=\"T_f9c69\">\n",
       "  <thead>\n",
       "    <tr>\n",
       "      <th class=\"blank\" >&nbsp;</th>\n",
       "      <th class=\"blank level0\" >&nbsp;</th>\n",
       "      <th id=\"T_f9c69_level0_col0\" class=\"col_heading level0 col0\" >mae</th>\n",
       "      <th id=\"T_f9c69_level0_col1\" class=\"col_heading level0 col1\" >mse</th>\n",
       "      <th id=\"T_f9c69_level0_col2\" class=\"col_heading level0 col2\" >r2</th>\n",
       "      <th id=\"T_f9c69_level0_col3\" class=\"col_heading level0 col3\" >rmse</th>\n",
       "      <th id=\"T_f9c69_level0_col4\" class=\"col_heading level0 col4\" >val_loss</th>\n",
       "    </tr>\n",
       "    <tr>\n",
       "      <th class=\"index_name level0\" >model_group</th>\n",
       "      <th class=\"index_name level1\" >dataset</th>\n",
       "      <th class=\"blank col0\" >&nbsp;</th>\n",
       "      <th class=\"blank col1\" >&nbsp;</th>\n",
       "      <th class=\"blank col2\" >&nbsp;</th>\n",
       "      <th class=\"blank col3\" >&nbsp;</th>\n",
       "      <th class=\"blank col4\" >&nbsp;</th>\n",
       "    </tr>\n",
       "  </thead>\n",
       "  <tbody>\n",
       "  </tbody>\n",
       "</table>\n"
      ],
      "text/plain": [
       "<pandas.io.formats.style.Styler at 0x72fcbdf63250>"
      ]
     },
     "metadata": {},
     "output_type": "display_data"
    },
    {
     "name": "stdout",
     "output_type": "stream",
     "text": [
      "[outdoor_and_indoor] outliers removed: 0 / 0 (kept 0)\n",
      "=== Averages by (model_group, dataset) — cleaned (IQR) — group: outdoor_and_indoor ===\n"
     ]
    },
    {
     "data": {
      "text/html": [
       "<style type=\"text/css\">\n",
       "</style>\n",
       "<table id=\"T_36551\">\n",
       "  <thead>\n",
       "    <tr>\n",
       "      <th class=\"blank\" >&nbsp;</th>\n",
       "      <th class=\"blank level0\" >&nbsp;</th>\n",
       "      <th id=\"T_36551_level0_col0\" class=\"col_heading level0 col0\" >mae</th>\n",
       "      <th id=\"T_36551_level0_col1\" class=\"col_heading level0 col1\" >mse</th>\n",
       "      <th id=\"T_36551_level0_col2\" class=\"col_heading level0 col2\" >r2</th>\n",
       "      <th id=\"T_36551_level0_col3\" class=\"col_heading level0 col3\" >rmse</th>\n",
       "      <th id=\"T_36551_level0_col4\" class=\"col_heading level0 col4\" >val_loss</th>\n",
       "    </tr>\n",
       "    <tr>\n",
       "      <th class=\"index_name level0\" >model_group</th>\n",
       "      <th class=\"index_name level1\" >dataset</th>\n",
       "      <th class=\"blank col0\" >&nbsp;</th>\n",
       "      <th class=\"blank col1\" >&nbsp;</th>\n",
       "      <th class=\"blank col2\" >&nbsp;</th>\n",
       "      <th class=\"blank col3\" >&nbsp;</th>\n",
       "      <th class=\"blank col4\" >&nbsp;</th>\n",
       "    </tr>\n",
       "  </thead>\n",
       "  <tbody>\n",
       "  </tbody>\n",
       "</table>\n"
      ],
      "text/plain": [
       "<pandas.io.formats.style.Styler at 0x72fcbdf63250>"
      ]
     },
     "metadata": {},
     "output_type": "display_data"
    },
    {
     "name": "stdout",
     "output_type": "stream",
     "text": [
      "[outdoor_and_garage] outliers removed: 0 / 0 (kept 0)\n",
      "=== Averages by (model_group, dataset) — cleaned (IQR) — group: outdoor_and_garage ===\n"
     ]
    },
    {
     "data": {
      "text/html": [
       "<style type=\"text/css\">\n",
       "</style>\n",
       "<table id=\"T_98926\">\n",
       "  <thead>\n",
       "    <tr>\n",
       "      <th class=\"blank\" >&nbsp;</th>\n",
       "      <th class=\"blank level0\" >&nbsp;</th>\n",
       "      <th id=\"T_98926_level0_col0\" class=\"col_heading level0 col0\" >mae</th>\n",
       "      <th id=\"T_98926_level0_col1\" class=\"col_heading level0 col1\" >mse</th>\n",
       "      <th id=\"T_98926_level0_col2\" class=\"col_heading level0 col2\" >r2</th>\n",
       "      <th id=\"T_98926_level0_col3\" class=\"col_heading level0 col3\" >rmse</th>\n",
       "      <th id=\"T_98926_level0_col4\" class=\"col_heading level0 col4\" >val_loss</th>\n",
       "    </tr>\n",
       "    <tr>\n",
       "      <th class=\"index_name level0\" >model_group</th>\n",
       "      <th class=\"index_name level1\" >dataset</th>\n",
       "      <th class=\"blank col0\" >&nbsp;</th>\n",
       "      <th class=\"blank col1\" >&nbsp;</th>\n",
       "      <th class=\"blank col2\" >&nbsp;</th>\n",
       "      <th class=\"blank col3\" >&nbsp;</th>\n",
       "      <th class=\"blank col4\" >&nbsp;</th>\n",
       "    </tr>\n",
       "  </thead>\n",
       "  <tbody>\n",
       "  </tbody>\n",
       "</table>\n"
      ],
      "text/plain": [
       "<pandas.io.formats.style.Styler at 0x72fcbdf63250>"
      ]
     },
     "metadata": {},
     "output_type": "display_data"
    },
    {
     "name": "stdout",
     "output_type": "stream",
     "text": [
      "[outdoor_indoor_and_garage] outliers removed: 0 / 0 (kept 0)\n",
      "=== Averages by (model_group, dataset) — cleaned (IQR) — group: outdoor_indoor_and_garage ===\n"
     ]
    },
    {
     "data": {
      "text/html": [
       "<style type=\"text/css\">\n",
       "</style>\n",
       "<table id=\"T_b048d\">\n",
       "  <thead>\n",
       "    <tr>\n",
       "      <th class=\"blank\" >&nbsp;</th>\n",
       "      <th class=\"blank level0\" >&nbsp;</th>\n",
       "      <th id=\"T_b048d_level0_col0\" class=\"col_heading level0 col0\" >mae</th>\n",
       "      <th id=\"T_b048d_level0_col1\" class=\"col_heading level0 col1\" >mse</th>\n",
       "      <th id=\"T_b048d_level0_col2\" class=\"col_heading level0 col2\" >r2</th>\n",
       "      <th id=\"T_b048d_level0_col3\" class=\"col_heading level0 col3\" >rmse</th>\n",
       "      <th id=\"T_b048d_level0_col4\" class=\"col_heading level0 col4\" >val_loss</th>\n",
       "    </tr>\n",
       "    <tr>\n",
       "      <th class=\"index_name level0\" >model_group</th>\n",
       "      <th class=\"index_name level1\" >dataset</th>\n",
       "      <th class=\"blank col0\" >&nbsp;</th>\n",
       "      <th class=\"blank col1\" >&nbsp;</th>\n",
       "      <th class=\"blank col2\" >&nbsp;</th>\n",
       "      <th class=\"blank col3\" >&nbsp;</th>\n",
       "      <th class=\"blank col4\" >&nbsp;</th>\n",
       "    </tr>\n",
       "  </thead>\n",
       "  <tbody>\n",
       "  </tbody>\n",
       "</table>\n"
      ],
      "text/plain": [
       "<pandas.io.formats.style.Styler at 0x72fcbdf63250>"
      ]
     },
     "metadata": {},
     "output_type": "display_data"
    },
    {
     "name": "stdout",
     "output_type": "stream",
     "text": [
      "[all_data] outliers removed: 0 / 0 (kept 0)\n",
      "=== Averages by (model_group, dataset) — cleaned (IQR) — group: all_data ===\n"
     ]
    },
    {
     "data": {
      "text/html": [
       "<style type=\"text/css\">\n",
       "</style>\n",
       "<table id=\"T_9f946\">\n",
       "  <thead>\n",
       "    <tr>\n",
       "      <th class=\"blank\" >&nbsp;</th>\n",
       "      <th class=\"blank level0\" >&nbsp;</th>\n",
       "      <th id=\"T_9f946_level0_col0\" class=\"col_heading level0 col0\" >mae</th>\n",
       "      <th id=\"T_9f946_level0_col1\" class=\"col_heading level0 col1\" >mse</th>\n",
       "      <th id=\"T_9f946_level0_col2\" class=\"col_heading level0 col2\" >r2</th>\n",
       "      <th id=\"T_9f946_level0_col3\" class=\"col_heading level0 col3\" >rmse</th>\n",
       "      <th id=\"T_9f946_level0_col4\" class=\"col_heading level0 col4\" >val_loss</th>\n",
       "    </tr>\n",
       "    <tr>\n",
       "      <th class=\"index_name level0\" >model_group</th>\n",
       "      <th class=\"index_name level1\" >dataset</th>\n",
       "      <th class=\"blank col0\" >&nbsp;</th>\n",
       "      <th class=\"blank col1\" >&nbsp;</th>\n",
       "      <th class=\"blank col2\" >&nbsp;</th>\n",
       "      <th class=\"blank col3\" >&nbsp;</th>\n",
       "      <th class=\"blank col4\" >&nbsp;</th>\n",
       "    </tr>\n",
       "  </thead>\n",
       "  <tbody>\n",
       "  </tbody>\n",
       "</table>\n"
      ],
      "text/plain": [
       "<pandas.io.formats.style.Styler at 0x72fcbdf63250>"
      ]
     },
     "metadata": {},
     "output_type": "display_data"
    },
    {
     "name": "stdout",
     "output_type": "stream",
     "text": [
      "[unknown] outliers removed: 0 / 0 (kept 0)\n",
      "=== Averages by (model_group, dataset) — cleaned (IQR) — group: unknown ===\n"
     ]
    },
    {
     "data": {
      "text/html": [
       "<style type=\"text/css\">\n",
       "</style>\n",
       "<table id=\"T_fa93a\">\n",
       "  <thead>\n",
       "    <tr>\n",
       "      <th class=\"blank\" >&nbsp;</th>\n",
       "      <th class=\"blank level0\" >&nbsp;</th>\n",
       "      <th id=\"T_fa93a_level0_col0\" class=\"col_heading level0 col0\" >mae</th>\n",
       "      <th id=\"T_fa93a_level0_col1\" class=\"col_heading level0 col1\" >mse</th>\n",
       "      <th id=\"T_fa93a_level0_col2\" class=\"col_heading level0 col2\" >r2</th>\n",
       "      <th id=\"T_fa93a_level0_col3\" class=\"col_heading level0 col3\" >rmse</th>\n",
       "      <th id=\"T_fa93a_level0_col4\" class=\"col_heading level0 col4\" >val_loss</th>\n",
       "    </tr>\n",
       "    <tr>\n",
       "      <th class=\"index_name level0\" >model_group</th>\n",
       "      <th class=\"index_name level1\" >dataset</th>\n",
       "      <th class=\"blank col0\" >&nbsp;</th>\n",
       "      <th class=\"blank col1\" >&nbsp;</th>\n",
       "      <th class=\"blank col2\" >&nbsp;</th>\n",
       "      <th class=\"blank col3\" >&nbsp;</th>\n",
       "      <th class=\"blank col4\" >&nbsp;</th>\n",
       "    </tr>\n",
       "  </thead>\n",
       "  <tbody>\n",
       "  </tbody>\n",
       "</table>\n"
      ],
      "text/plain": [
       "<pandas.io.formats.style.Styler at 0x72fcbdf63250>"
      ]
     },
     "metadata": {},
     "output_type": "display_data"
    }
   ],
   "source": [
    "dataframe_group = split_by_group(csv_path)\n",
    "\n",
    "for group_name in dataframe_group.keys():  # (this is a model_type bucket, not 'dataset')\n",
    "    df = dataframe_group[group_name].copy()\n",
    "\n",
    "    # Infer model_group consistently\n",
    "    df[\"model_group\"] = df[\"model_file\"].apply(infer_model_group)\n",
    "\n",
    "    # 1) Clean + sanity checks\n",
    "    df = coerce_and_sanity_check(df)\n",
    "\n",
    "    # 2) Optional: keep only best N by RMSE **after** cleaning (avoid bias)\n",
    "    #    You can remove this if you prefer to use all rows.\n",
    "    df = df.sort_values(\"rmse\", ascending=True).head(1000)\n",
    "\n",
    "    # 3) Per-group outlier removal (IQR) over all metrics\n",
    "    clean_df, out_mask = drop_outliers_iqr(\n",
    "        df,\n",
    "        cols=METRICS,\n",
    "        group_cols=[\"model_group\", \"dataset\"],\n",
    "        k=1.5,  # make this 2.0 if you want a looser filter\n",
    "    )\n",
    "\n",
    "    removed = int(out_mask.sum())\n",
    "    kept = len(clean_df)\n",
    "    total = len(df)\n",
    "    print(f\"[{group_name}] outliers removed: {removed} / {total} (kept {kept})\")\n",
    "\n",
    "    # 4) Aggregate (you can swap mean->median if you want extra robustness)\n",
    "    grouped = (\n",
    "        clean_df\n",
    "        .groupby([\"model_group\", \"dataset\"], dropna=False)[METRICS]\n",
    "        .mean()\n",
    "        .sort_index()\n",
    "    )\n",
    "\n",
    "    wide = grouped.unstack(\"dataset\")\n",
    "    wide.columns = [f\"{metric}__{dataset}\" for metric, dataset in wide.columns]\n",
    "    wide = wide.sort_index()\n",
    "\n",
    "    # 5) Pretty display\n",
    "    from IPython.display import display\n",
    "    print(f\"=== Averages by (model_group, dataset) — cleaned (IQR) — group: {group_name} ===\")\n",
    "    display(\n",
    "        grouped.style\n",
    "        .format(precision=round_decimals)\n",
    "        .background_gradient(cmap=\"RdYlGn_r\", subset=[\"mae\",\"mse\",\"rmse\",\"val_loss\"])\n",
    "        .background_gradient(cmap=\"RdYlGn\", subset=[\"r2\"])\n",
    "    )"
   ]
  }
 ],
 "metadata": {
  "kernelspec": {
   "display_name": "location-env",
   "language": "python",
   "name": "python3"
  },
  "language_info": {
   "codemirror_mode": {
    "name": "ipython",
    "version": 3
   },
   "file_extension": ".py",
   "mimetype": "text/x-python",
   "name": "python",
   "nbconvert_exporter": "python",
   "pygments_lexer": "ipython3",
   "version": "3.13.3"
  }
 },
 "nbformat": 4,
 "nbformat_minor": 5
}
