{
 "cells": [
  {
   "cell_type": "markdown",
   "id": "b45a0d3b",
   "metadata": {},
   "source": [
    "\n",
    "# 📘 Validate Saved CNN Checkpoints on Dataset Subsets\n",
    "\n",
    "This notebook loads your previously trained CNN checkpoints (`.ckpt` saved by `Trainer.save_checkpoint`), \n",
    "reconstructs each model architecture from your saved configs (either a sidecar `*.arch.json` next to the checkpoint \n",
    "or a matching entry in one of your `best_models_*.pkl` files), and evaluates on selected dataset subsets \n",
    "(**garage**, **outdoor**, **indoor**, or explicit collection names).\n",
    "\n",
    "**What you need in the working directory:**\n",
    "- Your project files: `data_processing.py`, `model_generation.py`, `gpu_fucntion.py` (already here)\n",
    "- Your model checkpoints in a folder (e.g., `model_storage/`)\n",
    "- Your `best_models_*.pkl` files, if you didn't create `.arch.json` sidecars during training\n",
    "\n",
    "> Tip: you can create a sidecar JSON config next to each checkpoint from your training loop:\n",
    "> ```python\n",
    "> with open(model_save_path.replace(\".ckpt\", \".arch.json\"), \"w\") as f:\n",
    ">     json.dump(config_dict[\"config\"], f)\n",
    "> ```\n"
   ]
  },
  {
   "cell_type": "code",
   "execution_count": 51,
   "id": "8dddacb3",
   "metadata": {},
   "outputs": [
    {
     "name": "stdout",
     "output_type": "stream",
     "text": [
      "PyTorch: 2.7.0\n",
      "CUDA available: True\n"
     ]
    }
   ],
   "source": [
    "\n",
    "import os, glob, pickle, json\n",
    "from typing import Dict, Any, List, Tuple\n",
    "\n",
    "import numpy as np\n",
    "import torch\n",
    "import pandas as pd\n",
    "\n",
    "# ensure local modules are importable\n",
    "import sys\n",
    "sys.path.append(\"/mnt/data\")\n",
    "\n",
    "from data_processing import get_dataset, combine_arrays, shuffle_array, split_combined_data\n",
    "from model_generation import GeneratedModel\n",
    "from gpu_fucntion import LightningWrapper\n",
    "\n",
    "print(f\"PyTorch: {torch.__version__}\")\n",
    "print(\"CUDA available:\", torch.cuda.is_available())\n"
   ]
  },
  {
   "cell_type": "markdown",
   "id": "96c5ad21",
   "metadata": {},
   "source": [
    "## 🔧 Parameters"
   ]
  },
  {
   "cell_type": "code",
   "execution_count": 52,
   "id": "e1dd51f2",
   "metadata": {},
   "outputs": [],
   "source": [
    "\n",
    "# Choose ONE of the two: either a single checkpoint path, or a directory to iterate all checkpoints.\n",
    "CKPT = \"\"  # e.g., \"/mnt/data/model_storage/outdoor_only_run0_depth3_model5.ckpt\"\n",
    "CKPT_DIR = \"/home/admindi/sbenites/WirelessLocation/validation/model_per_dataset_validation/model_storage\"  # folder of .ckpt files, or \"\" to ignore\n",
    "\n",
    "# Validation subsets: choose any of [\"garage\", \"outdoor\", \"indoor\", \"all\"] and/or \"collections\".\n",
    "SUBSETS = [\"garage\", \"outdoor\", \"indoor\"]\n",
    "\n",
    "# If you include \"collections\" in SUBSETS, list the exact collection names here:\n",
    "COLLECTIONS = [\n",
    "    # \"reto_grande_outdoor\", \"equilatero_grande_outdoor\"\n",
    "]\n",
    "\n",
    "# Database name\n",
    "DB_NAME = \"wifi_fingerprinting_data\"\n",
    "\n",
    "# Where to find best model pickles if you didn't save sidecar .arch.json files\n",
    "PKL_GLOB = \"/home/admindi/sbenites/WirelessLocation/**/best_models_*.pkl\"\n",
    "\n",
    "# Forward-pass batch size\n",
    "BATCH_SIZE = 4096\n"
   ]
  },
  {
   "cell_type": "markdown",
   "id": "2f9d9f5e",
   "metadata": {},
   "source": [
    "## 🗂️ Collections & Subsets"
   ]
  },
  {
   "cell_type": "code",
   "execution_count": 53,
   "id": "74077b28",
   "metadata": {},
   "outputs": [],
   "source": [
    "\n",
    "ALL_COLLECTIONS = [\n",
    "    \"equilatero_grande_garage\",\n",
    "    \"equilatero_grande_outdoor\",\n",
    "    \"equilatero_medio_garage\",\n",
    "    \"equilatero_medio_outdoor\",\n",
    "    \"isosceles_grande_indoor\",\n",
    "    \"isosceles_grande_outdoor\",\n",
    "    \"isosceles_medio_outdoor\",\n",
    "    \"obtusangulo_grande_outdoor\",\n",
    "    \"obtusangulo_pequeno_outdoor\",\n",
    "    \"reto_grande_garage\",\n",
    "    \"reto_grande_indoor\",\n",
    "    \"reto_grande_outdoor\",\n",
    "    \"reto_medio_garage\",\n",
    "    \"reto_medio_outdoor\",\n",
    "    \"reto_n_quadrado_grande_indoor\",\n",
    "    \"reto_n_quadrado_grande_outdoor\",\n",
    "    \"reto_n_quadrado_pequeno_outdoor\",\n",
    "    \"reto_pequeno_garage\",\n",
    "    \"reto_pequeno_outdoor\",\n",
    "]\n",
    "\n",
    "def group_by_location(collections: List[str], locations: List[str]) -> List[str]:\n",
    "    return [name for name in collections if any(loc in name for loc in locations)]\n",
    "\n",
    "SUBSET_MAP = {\n",
    "    \"garage\": group_by_location(ALL_COLLECTIONS, [\"garage\"]),\n",
    "    \"outdoor\": group_by_location(ALL_COLLECTIONS, [\"outdoor\"]),\n",
    "    \"indoor\": group_by_location(ALL_COLLECTIONS, [\"indoor\"]),\n",
    "    \"all\": ALL_COLLECTIONS,\n",
    "}\n"
   ]
  },
  {
   "cell_type": "markdown",
   "id": "e5b40f5f",
   "metadata": {},
   "source": [
    "## 📏 Metrics & Data Loading"
   ]
  },
  {
   "cell_type": "code",
   "execution_count": 54,
   "id": "5a18d68d",
   "metadata": {},
   "outputs": [],
   "source": [
    "\n",
    "def mse(y_true: np.ndarray, y_pred: np.ndarray) -> float:\n",
    "    return float(np.mean((y_true - y_pred) ** 2))\n",
    "\n",
    "def rmse(y_true: np.ndarray, y_pred: np.ndarray) -> float:\n",
    "    return float(np.sqrt(mse(y_true, y_pred)))\n",
    "\n",
    "def mae(y_true: np.ndarray, y_pred: np.ndarray) -> float:\n",
    "    return float(np.mean(np.abs(y_true - y_pred)))\n",
    "\n",
    "def r2_score(y_true: np.ndarray, y_pred: np.ndarray) -> float:\n",
    "    ss_res = np.sum((y_true - y_pred) ** 2)\n",
    "    ss_tot = np.sum((y_true - np.mean(y_true, axis=0)) ** 2)\n",
    "    return float(1 - ss_res / ss_tot) if ss_tot != 0 else float(\"nan\")\n",
    "\n",
    "def load_val_data(selected_collections: List[str], db_name: str) -> Tuple[np.ndarray, np.ndarray]:\n",
    "    print(f\"📡 Loading validation datasets: {selected_collections}\")\n",
    "    datasets = [get_dataset(name, db_name) for name in selected_collections]\n",
    "    combined = combine_arrays(datasets)\n",
    "    shuffled = shuffle_array(combined)\n",
    "    X, y = split_combined_data(shuffled)\n",
    "    return X, y\n"
   ]
  },
  {
   "cell_type": "markdown",
   "id": "253fe8a5",
   "metadata": {},
   "source": [
    "## 🔍 Find Architecture Config for a Checkpoint"
   ]
  },
  {
   "cell_type": "code",
   "execution_count": 55,
   "id": "f592b7ca",
   "metadata": {},
   "outputs": [],
   "source": [
    "# 🔁 Patch: also try to read the architecture from checkpoint hyperparameters\n",
    "import torch\n",
    "\n",
    "def _maybe_arch_from_hp(hp):\n",
    "    if not isinstance(hp, dict):\n",
    "        return None\n",
    "    # Obvious candidates first\n",
    "    for cand in [\"config\", \"architecture_config\", \"arch_config\", \"model_config\", \"architecture\", \"cnn_config\"]:\n",
    "        if cand in hp and isinstance(hp[cand], dict):\n",
    "            return hp[cand]\n",
    "    # Heuristic fallback: if hp itself looks like an arch dict, use it\n",
    "    likely_keys = {\"layers\",\"conv\",\"conv_blocks\",\"fc_layers\",\"activation\",\"dropout\",\"hidden_sizes\",\"kernel_size\"}\n",
    "    if any(k in hp for k in likely_keys):\n",
    "        return hp\n",
    "    return None\n",
    "\n",
    "# Re-define find_arch_config_for_ckpt with hyperparams fallback\n",
    "def find_arch_config_for_ckpt(ckpt_path: str, pkl_glob: str):\n",
    "    import os, glob, json, pickle\n",
    "    ckpt_stem = os.path.splitext(os.path.basename(ckpt_path))[0]\n",
    "\n",
    "    # 1) Sidecar JSON\n",
    "    sidecar = os.path.join(os.path.dirname(ckpt_path), ckpt_stem + \".arch.json\")\n",
    "    if os.path.isfile(sidecar):\n",
    "        try:\n",
    "            with open(sidecar, \"r\") as f:\n",
    "                cfg = json.load(f)\n",
    "            print(f\"🧩 Found config sidecar: {sidecar}\")\n",
    "            return cfg\n",
    "        except Exception as e:\n",
    "            print(f\"⚠️ Failed to read sidecar {sidecar}: {e}\")\n",
    "\n",
    "    # 2) best_models_*.pkl\n",
    "    candidates = glob.glob(pkl_glob, recursive=True)\n",
    "    for pkl_path in candidates:\n",
    "        try:\n",
    "            with open(pkl_path, \"rb\") as f:\n",
    "                items = pickle.load(f)\n",
    "            for it in items:\n",
    "                if it.get(\"name\") == ckpt_stem and \"config\" in it:\n",
    "                    print(f\"🧩 Found config in {pkl_path}\")\n",
    "                    return it[\"config\"]\n",
    "        except Exception as e:\n",
    "            print(f\"⚠️ Could not read {pkl_path}: {e}\")\n",
    "\n",
    "    # 3) Fallback: try the checkpoint's hyperparameters\n",
    "    try:\n",
    "        ckpt = torch.load(ckpt_path, map_location=\"cpu\")\n",
    "        hp = ckpt.get(\"hyper_parameters\") or ckpt.get(\"hparams\") or ckpt.get(\"hyperparams\")\n",
    "        cfg = _maybe_arch_from_hp(hp)\n",
    "        if cfg is not None:\n",
    "            print(\"🧩 Recovered config from checkpoint hyperparameters\")\n",
    "            return cfg\n",
    "    except Exception as e:\n",
    "        print(f\"⚠️ Failed to inspect checkpoint hyperparameters: {e}\")\n",
    "\n",
    "    raise RuntimeError(\n",
    "        \"Could not find architecture config for:\\n\"\n",
    "        f\"  {ckpt_path}\\n\"\n",
    "        \"Provide a sidecar JSON or ensure the best_models_*.pkl for this run includes this exact model name.\"\n",
    "    )\n"
   ]
  },
  {
   "cell_type": "markdown",
   "id": "4e0f0da1",
   "metadata": {},
   "source": [
    "## 🧠 Load Model from Checkpoint & Evaluate"
   ]
  },
  {
   "cell_type": "code",
   "execution_count": 56,
   "id": "81d39d57",
   "metadata": {},
   "outputs": [],
   "source": [
    "\n",
    "import torch\n",
    "from typing import Dict, Any\n",
    "\n",
    "def load_model_from_ckpt(ckpt_path: str, arch_config: Dict[str, Any], input_size: int, output_size: int, device: torch.device) -> LightningWrapper:\n",
    "    model = GeneratedModel(input_size=input_size, output_size=output_size, architecture_config=arch_config)\n",
    "    wrapper = LightningWrapper(\n",
    "        model=model,\n",
    "        train_data=(torch.empty(1, input_size), torch.empty(1, output_size)),  # dummy placeholders\n",
    "        val_data=(torch.empty(1, input_size), torch.empty(1, output_size)),\n",
    "        learning_rate=arch_config.get(\"learning_rate\", 1e-3),\n",
    "        weight_decay=arch_config.get(\"weight_decay\", 0.0),\n",
    "        optimizer_name=arch_config.get(\"optimizer\", \"adam\"),\n",
    "    )\n",
    "    ckpt = torch.load(ckpt_path, map_location=\"cpu\")\n",
    "    state_dict = ckpt.get(\"state_dict\", ckpt)\n",
    "    missing, unexpected = wrapper.load_state_dict(state_dict, strict=False)\n",
    "    if missing:\n",
    "        print(f\"⚠️ Missing keys when loading: {missing[:5]}{'...' if len(missing) > 5 else ''}\")\n",
    "    if unexpected:\n",
    "        print(f\"⚠️ Unexpected keys when loading: {unexpected[:5]}{'...' if len(unexpected) > 5 else ''}\")\n",
    "    wrapper.to(device)\n",
    "    wrapper.eval()\n",
    "    return wrapper\n",
    "\n",
    "@torch.inference_mode()\n",
    "def evaluate(wrapper: LightningWrapper, X: np.ndarray, y: np.ndarray, device: torch.device, batch_size: int = 4096):\n",
    "    X_t = torch.as_tensor(X, dtype=torch.float32, device=device)\n",
    "    preds = []\n",
    "    for i in range(0, X_t.size(0), batch_size):\n",
    "        xb = X_t[i:i+batch_size]\n",
    "        yb_pred = wrapper.model(xb)\n",
    "        preds.append(yb_pred.detach().cpu().numpy())\n",
    "    y_pred = np.vstack(preds)\n",
    "    metrics = {\n",
    "        \"mse\": mse(y, y_pred),\n",
    "        \"rmse\": rmse(y, y_pred),\n",
    "        \"mae\": mae(y, y_pred),\n",
    "        \"r2\": r2_score(y, y_pred),\n",
    "    }\n",
    "    return metrics\n"
   ]
  },
  {
   "cell_type": "markdown",
   "id": "3334bc6b",
   "metadata": {},
   "source": [
    "## 📂 Choose Which Checkpoints to Validate"
   ]
  },
  {
   "cell_type": "code",
   "execution_count": 57,
   "id": "297a3bcb",
   "metadata": {},
   "outputs": [
    {
     "name": "stdout",
     "output_type": "stream",
     "text": [
      "Found 2240 checkpoint(s).\n",
      " - /home/admindi/sbenites/WirelessLocation/validation/model_per_dataset_validation/model_storage/all_data_run0_depth0_model0.ckpt\n",
      " - /home/admindi/sbenites/WirelessLocation/validation/model_per_dataset_validation/model_storage/all_data_run0_depth0_model1.ckpt\n",
      " - /home/admindi/sbenites/WirelessLocation/validation/model_per_dataset_validation/model_storage/all_data_run0_depth0_model2.ckpt\n",
      " - /home/admindi/sbenites/WirelessLocation/validation/model_per_dataset_validation/model_storage/all_data_run0_depth0_model3.ckpt\n",
      " - /home/admindi/sbenites/WirelessLocation/validation/model_per_dataset_validation/model_storage/all_data_run0_depth0_model4.ckpt\n"
     ]
    }
   ],
   "source": [
    "\n",
    "if CKPT and CKPT_DIR:\n",
    "    raise SystemExit(\"Please set either CKPT or CKPT_DIR (not both).\")\n",
    "\n",
    "if not CKPT and not CKPT_DIR:\n",
    "    raise SystemExit(\"Please set CKPT or CKPT_DIR to proceed.\")\n",
    "\n",
    "if CKPT:\n",
    "    ckpt_paths = [CKPT]\n",
    "else:\n",
    "    if not os.path.isdir(CKPT_DIR):\n",
    "        raise SystemExit(f\"CKPT_DIR does not exist: {CKPT_DIR}\")\n",
    "    ckpt_paths = sorted([os.path.join(CKPT_DIR, f) for f in os.listdir(CKPT_DIR) if f.endswith(\".ckpt\")])\n",
    "    if not ckpt_paths:\n",
    "        raise SystemExit(f\"No .ckpt files found in {CKPT_DIR}\")\n",
    "\n",
    "print(f\"Found {len(ckpt_paths)} checkpoint(s).\")\n",
    "for p in ckpt_paths[:5]:\n",
    "    print(' -', p)\n"
   ]
  },
  {
   "cell_type": "markdown",
   "id": "95328ad6",
   "metadata": {},
   "source": [
    "## 🧪 Run Validation"
   ]
  },
  {
   "cell_type": "code",
   "execution_count": 58,
   "id": "f0437e33",
   "metadata": {},
   "outputs": [
    {
     "name": "stdout",
     "output_type": "stream",
     "text": [
      "Using device: cuda\n",
      "\n",
      "====================================================================================================\n",
      "Checkpoint: /home/admindi/sbenites/WirelessLocation/validation/model_per_dataset_validation/model_storage/all_data_run0_depth0_model0.ckpt\n"
     ]
    },
    {
     "ename": "RuntimeError",
     "evalue": "Could not find architecture config for:\n  /home/admindi/sbenites/WirelessLocation/validation/model_per_dataset_validation/model_storage/all_data_run0_depth0_model0.ckpt\nProvide a sidecar JSON or ensure the best_models_*.pkl for this run includes this exact model name.",
     "output_type": "error",
     "traceback": [
      "\u001b[31m---------------------------------------------------------------------------\u001b[39m",
      "\u001b[31mRuntimeError\u001b[39m                              Traceback (most recent call last)",
      "\u001b[36mCell\u001b[39m\u001b[36m \u001b[39m\u001b[32mIn[58]\u001b[39m\u001b[32m, line 18\u001b[39m\n\u001b[32m     16\u001b[39m \u001b[38;5;28mprint\u001b[39m(\u001b[33m\"\u001b[39m\u001b[38;5;130;01m\\n\u001b[39;00m\u001b[33m\"\u001b[39m + \u001b[33m\"\u001b[39m\u001b[33m=\u001b[39m\u001b[33m\"\u001b[39m*\u001b[32m100\u001b[39m)\n\u001b[32m     17\u001b[39m \u001b[38;5;28mprint\u001b[39m(\u001b[33m\"\u001b[39m\u001b[33mCheckpoint:\u001b[39m\u001b[33m\"\u001b[39m, ckpt_path)\n\u001b[32m---> \u001b[39m\u001b[32m18\u001b[39m arch_config = \u001b[43mfind_arch_config_for_ckpt\u001b[49m\u001b[43m(\u001b[49m\u001b[43mckpt_path\u001b[49m\u001b[43m,\u001b[49m\u001b[43m \u001b[49m\u001b[43mPKL_GLOB\u001b[49m\u001b[43m)\u001b[49m\n\u001b[32m     20\u001b[39m \u001b[38;5;28;01mfor\u001b[39;00m subset_name, collections \u001b[38;5;129;01min\u001b[39;00m subset_to_collections.items():\n\u001b[32m     21\u001b[39m     X_val, y_val = load_val_data(collections, DB_NAME)\n",
      "\u001b[36mCell\u001b[39m\u001b[36m \u001b[39m\u001b[32mIn[55]\u001b[39m\u001b[32m, line 57\u001b[39m, in \u001b[36mfind_arch_config_for_ckpt\u001b[39m\u001b[34m(ckpt_path, pkl_glob)\u001b[39m\n\u001b[32m     54\u001b[39m \u001b[38;5;28;01mexcept\u001b[39;00m \u001b[38;5;167;01mException\u001b[39;00m \u001b[38;5;28;01mas\u001b[39;00m e:\n\u001b[32m     55\u001b[39m     \u001b[38;5;28mprint\u001b[39m(\u001b[33mf\u001b[39m\u001b[33m\"\u001b[39m\u001b[33m⚠️ Failed to inspect checkpoint hyperparameters: \u001b[39m\u001b[38;5;132;01m{\u001b[39;00me\u001b[38;5;132;01m}\u001b[39;00m\u001b[33m\"\u001b[39m)\n\u001b[32m---> \u001b[39m\u001b[32m57\u001b[39m \u001b[38;5;28;01mraise\u001b[39;00m \u001b[38;5;167;01mRuntimeError\u001b[39;00m(\n\u001b[32m     58\u001b[39m     \u001b[33m\"\u001b[39m\u001b[33mCould not find architecture config for:\u001b[39m\u001b[38;5;130;01m\\n\u001b[39;00m\u001b[33m\"\u001b[39m\n\u001b[32m     59\u001b[39m     \u001b[33mf\u001b[39m\u001b[33m\"\u001b[39m\u001b[33m  \u001b[39m\u001b[38;5;132;01m{\u001b[39;00mckpt_path\u001b[38;5;132;01m}\u001b[39;00m\u001b[38;5;130;01m\\n\u001b[39;00m\u001b[33m\"\u001b[39m\n\u001b[32m     60\u001b[39m     \u001b[33m\"\u001b[39m\u001b[33mProvide a sidecar JSON or ensure the best_models_*.pkl for this run includes this exact model name.\u001b[39m\u001b[33m\"\u001b[39m\n\u001b[32m     61\u001b[39m )\n",
      "\u001b[31mRuntimeError\u001b[39m: Could not find architecture config for:\n  /home/admindi/sbenites/WirelessLocation/validation/model_per_dataset_validation/model_storage/all_data_run0_depth0_model0.ckpt\nProvide a sidecar JSON or ensure the best_models_*.pkl for this run includes this exact model name."
     ]
    }
   ],
   "source": [
    "\n",
    "# Build subsets selected for this run\n",
    "subset_to_collections = {}\n",
    "for sub in SUBSETS:\n",
    "    if sub == \"collections\":\n",
    "        if not COLLECTIONS:\n",
    "            raise SystemExit('-- You included \"collections\" but did not specify any COLLECTIONS')\n",
    "        subset_to_collections[sub] = COLLECTIONS\n",
    "    else:\n",
    "        subset_to_collections[sub] = SUBSET_MAP[sub]\n",
    "\n",
    "device = torch.device(\"cuda\" if torch.cuda.is_available() else \"cpu\")\n",
    "print(\"Using device:\", device)\n",
    "\n",
    "results = []\n",
    "for ckpt_path in ckpt_paths:\n",
    "    print(\"\\n\" + \"=\"*100)\n",
    "    print(\"Checkpoint:\", ckpt_path)\n",
    "    arch_config = find_arch_config_for_ckpt(ckpt_path, PKL_GLOB)\n",
    "\n",
    "    for subset_name, collections in subset_to_collections.items():\n",
    "        X_val, y_val = load_val_data(collections, DB_NAME)\n",
    "        input_size = X_val.shape[1]\n",
    "        output_size = y_val.shape[1]\n",
    "\n",
    "        wrapper = load_model_from_ckpt(ckpt_path, arch_config, input_size, output_size, device)\n",
    "        metrics = evaluate(wrapper, X_val, y_val, device, batch_size=BATCH_SIZE)\n",
    "\n",
    "        row = {\n",
    "            \"checkpoint\": os.path.basename(ckpt_path),\n",
    "            \"subset\": subset_name,\n",
    "            \"collections\": \",\".join(collections) if isinstance(collections, list) else str(collections),\n",
    "            **metrics\n",
    "        }\n",
    "        print(row)\n",
    "        results.append(row)\n",
    "\n",
    "df = pd.DataFrame(results).sort_values([\"checkpoint\", \"subset\"]).reset_index(drop=True)\n",
    "df\n"
   ]
  }
 ],
 "metadata": {
  "kernelspec": {
   "display_name": "location-env",
   "language": "python",
   "name": "python3"
  },
  "language_info": {
   "codemirror_mode": {
    "name": "ipython",
    "version": 3
   },
   "file_extension": ".py",
   "mimetype": "text/x-python",
   "name": "python",
   "nbconvert_exporter": "python",
   "pygments_lexer": "ipython3",
   "version": "3.13.3"
  }
 },
 "nbformat": 4,
 "nbformat_minor": 5
}
